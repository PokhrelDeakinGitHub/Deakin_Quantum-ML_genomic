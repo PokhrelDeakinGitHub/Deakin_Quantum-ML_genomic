{
  "nbformat": 4,
  "nbformat_minor": 0,
  "metadata": {
    "colab": {
      "provenance": [],
      "machine_shape": "hm",
      "authorship_tag": "ABX9TyM6wf1p5AJPjxQFAQ8htuSN",
      "include_colab_link": true
    },
    "kernelspec": {
      "name": "python3",
      "display_name": "Python 3"
    },
    "language_info": {
      "name": "python"
    }
  },
  "cells": [
    {
      "cell_type": "markdown",
      "metadata": {
        "id": "view-in-github",
        "colab_type": "text"
      },
      "source": [
        "<a href=\"https://colab.research.google.com/github/navneetslovely/QML_genom/blob/main/VQC_ZZfeatureMap.ipynb\" target=\"_parent\"><img src=\"https://colab.research.google.com/assets/colab-badge.svg\" alt=\"Open In Colab\"/></a>"
      ]
    },
    {
      "cell_type": "code",
      "source": [
        "from google.colab import drive\n",
        "drive.mount('/content/drive')\n",
        "%cd /content/drive/MyDrive/Quantum_Studies_phd/PhD/QML_Genom"
      ],
      "metadata": {
        "id": "k_oD-6xk7IoT",
        "outputId": "3cfad3c1-5db0-4148-bb6e-b01bf005775b",
        "colab": {
          "base_uri": "https://localhost:8080/"
        }
      },
      "execution_count": 1,
      "outputs": [
        {
          "output_type": "stream",
          "name": "stdout",
          "text": [
            "Mounted at /content/drive\n",
            "/content/drive/MyDrive/Quantum_Studies_phd/PhD/QML_Genom\n"
          ]
        }
      ]
    },
    {
      "cell_type": "code",
      "execution_count": null,
      "metadata": {
        "colab": {
          "base_uri": "https://localhost:8080/"
        },
        "id": "KDR8bkCGiJmI",
        "outputId": "ec366722-428d-48e8-cd0e-1110492c3df1"
      },
      "outputs": [
        {
          "output_type": "stream",
          "name": "stdout",
          "text": [
            "Collecting qiskit-machine-learning\n",
            "  Downloading qiskit_machine_learning-0.7.2-py3-none-any.whl (97 kB)\n",
            "\u001b[2K     \u001b[90m━━━━━━━━━━━━━━━━━━━━━━━━━━━━━━━━━━━━━━━━\u001b[0m \u001b[32m97.8/97.8 kB\u001b[0m \u001b[31m2.4 MB/s\u001b[0m eta \u001b[36m0:00:00\u001b[0m\n",
            "\u001b[?25hCollecting qiskit>=0.44 (from qiskit-machine-learning)\n",
            "  Downloading qiskit-1.0.2-cp38-abi3-manylinux_2_17_x86_64.manylinux2014_x86_64.whl (5.6 MB)\n",
            "\u001b[2K     \u001b[90m━━━━━━━━━━━━━━━━━━━━━━━━━━━━━━━━━━━━━━━━\u001b[0m \u001b[32m5.6/5.6 MB\u001b[0m \u001b[31m16.7 MB/s\u001b[0m eta \u001b[36m0:00:00\u001b[0m\n",
            "\u001b[?25hCollecting qiskit-algorithms>=0.2.0 (from qiskit-machine-learning)\n",
            "  Downloading qiskit_algorithms-0.3.0-py3-none-any.whl (308 kB)\n",
            "\u001b[2K     \u001b[90m━━━━━━━━━━━━━━━━━━━━━━━━━━━━━━━━━━━━━━━━\u001b[0m \u001b[32m308.6/308.6 kB\u001b[0m \u001b[31m24.6 MB/s\u001b[0m eta \u001b[36m0:00:00\u001b[0m\n",
            "\u001b[?25hRequirement already satisfied: scipy>=1.4 in /usr/local/lib/python3.10/dist-packages (from qiskit-machine-learning) (1.11.4)\n",
            "Requirement already satisfied: numpy>=1.17 in /usr/local/lib/python3.10/dist-packages (from qiskit-machine-learning) (1.25.2)\n",
            "Requirement already satisfied: psutil>=5 in /usr/local/lib/python3.10/dist-packages (from qiskit-machine-learning) (5.9.5)\n",
            "Requirement already satisfied: scikit-learn>=1.2.0 in /usr/local/lib/python3.10/dist-packages (from qiskit-machine-learning) (1.2.2)\n",
            "Collecting fastdtw (from qiskit-machine-learning)\n",
            "  Downloading fastdtw-0.3.4.tar.gz (133 kB)\n",
            "\u001b[2K     \u001b[90m━━━━━━━━━━━━━━━━━━━━━━━━━━━━━━━━━━━━━━━━\u001b[0m \u001b[32m133.4/133.4 kB\u001b[0m \u001b[31m17.5 MB/s\u001b[0m eta \u001b[36m0:00:00\u001b[0m\n",
            "\u001b[?25h  Preparing metadata (setup.py) ... \u001b[?25l\u001b[?25hdone\n",
            "Requirement already satisfied: setuptools>=40.1.0 in /usr/local/lib/python3.10/dist-packages (from qiskit-machine-learning) (67.7.2)\n",
            "Collecting dill>=0.3.4 (from qiskit-machine-learning)\n",
            "  Downloading dill-0.3.8-py3-none-any.whl (116 kB)\n",
            "\u001b[2K     \u001b[90m━━━━━━━━━━━━━━━━━━━━━━━━━━━━━━━━━━━━━━━━\u001b[0m \u001b[32m116.3/116.3 kB\u001b[0m \u001b[31m13.8 MB/s\u001b[0m eta \u001b[36m0:00:00\u001b[0m\n",
            "\u001b[?25hCollecting rustworkx>=0.14.0 (from qiskit>=0.44->qiskit-machine-learning)\n",
            "  Downloading rustworkx-0.14.2-cp310-cp310-manylinux_2_17_x86_64.manylinux2014_x86_64.whl (2.1 MB)\n",
            "\u001b[2K     \u001b[90m━━━━━━━━━━━━━━━━━━━━━━━━━━━━━━━━━━━━━━━━\u001b[0m \u001b[32m2.1/2.1 MB\u001b[0m \u001b[31m29.3 MB/s\u001b[0m eta \u001b[36m0:00:00\u001b[0m\n",
            "\u001b[?25hRequirement already satisfied: sympy>=1.3 in /usr/local/lib/python3.10/dist-packages (from qiskit>=0.44->qiskit-machine-learning) (1.12)\n",
            "Requirement already satisfied: python-dateutil>=2.8.0 in /usr/local/lib/python3.10/dist-packages (from qiskit>=0.44->qiskit-machine-learning) (2.8.2)\n",
            "Collecting stevedore>=3.0.0 (from qiskit>=0.44->qiskit-machine-learning)\n",
            "  Downloading stevedore-5.2.0-py3-none-any.whl (49 kB)\n",
            "\u001b[2K     \u001b[90m━━━━━━━━━━━━━━━━━━━━━━━━━━━━━━━━━━━━━━━━\u001b[0m \u001b[32m49.7/49.7 kB\u001b[0m \u001b[31m5.8 MB/s\u001b[0m eta \u001b[36m0:00:00\u001b[0m\n",
            "\u001b[?25hRequirement already satisfied: typing-extensions in /usr/local/lib/python3.10/dist-packages (from qiskit>=0.44->qiskit-machine-learning) (4.11.0)\n",
            "Collecting symengine>=0.11 (from qiskit>=0.44->qiskit-machine-learning)\n",
            "  Downloading symengine-0.11.0-cp310-cp310-manylinux_2_12_x86_64.manylinux2010_x86_64.whl (39.4 MB)\n",
            "\u001b[2K     \u001b[90m━━━━━━━━━━━━━━━━━━━━━━━━━━━━━━━━━━━━━━━━\u001b[0m \u001b[32m39.4/39.4 MB\u001b[0m \u001b[31m35.7 MB/s\u001b[0m eta \u001b[36m0:00:00\u001b[0m\n",
            "\u001b[?25hRequirement already satisfied: joblib>=1.1.1 in /usr/local/lib/python3.10/dist-packages (from scikit-learn>=1.2.0->qiskit-machine-learning) (1.4.0)\n",
            "Requirement already satisfied: threadpoolctl>=2.0.0 in /usr/local/lib/python3.10/dist-packages (from scikit-learn>=1.2.0->qiskit-machine-learning) (3.4.0)\n",
            "Requirement already satisfied: six>=1.5 in /usr/local/lib/python3.10/dist-packages (from python-dateutil>=2.8.0->qiskit>=0.44->qiskit-machine-learning) (1.16.0)\n",
            "Collecting pbr!=2.1.0,>=2.0.0 (from stevedore>=3.0.0->qiskit>=0.44->qiskit-machine-learning)\n",
            "  Downloading pbr-6.0.0-py2.py3-none-any.whl (107 kB)\n",
            "\u001b[2K     \u001b[90m━━━━━━━━━━━━━━━━━━━━━━━━━━━━━━━━━━━━━━━━\u001b[0m \u001b[32m107.5/107.5 kB\u001b[0m \u001b[31m13.5 MB/s\u001b[0m eta \u001b[36m0:00:00\u001b[0m\n",
            "\u001b[?25hRequirement already satisfied: mpmath>=0.19 in /usr/local/lib/python3.10/dist-packages (from sympy>=1.3->qiskit>=0.44->qiskit-machine-learning) (1.3.0)\n",
            "Building wheels for collected packages: fastdtw\n",
            "  Building wheel for fastdtw (setup.py) ... \u001b[?25l\u001b[?25hdone\n",
            "  Created wheel for fastdtw: filename=fastdtw-0.3.4-cp310-cp310-linux_x86_64.whl size=512615 sha256=6a2b64ebd2771fc1c8967e640547d4354b40a433c26a406494965a7c089291b7\n",
            "  Stored in directory: /root/.cache/pip/wheels/73/c8/f7/c25448dab74c3acf4848bc25d513c736bb93910277e1528ef4\n",
            "Successfully built fastdtw\n",
            "Installing collected packages: symengine, rustworkx, pbr, fastdtw, dill, stevedore, qiskit, qiskit-algorithms, qiskit-machine-learning\n",
            "Successfully installed dill-0.3.8 fastdtw-0.3.4 pbr-6.0.0 qiskit-1.0.2 qiskit-algorithms-0.3.0 qiskit-machine-learning-0.7.2 rustworkx-0.14.2 stevedore-5.2.0 symengine-0.11.0\n",
            "Requirement already satisfied: qiskit[visualization] in /usr/local/lib/python3.10/dist-packages (1.0.2)\n",
            "Requirement already satisfied: rustworkx>=0.14.0 in /usr/local/lib/python3.10/dist-packages (from qiskit[visualization]) (0.14.2)\n",
            "Requirement already satisfied: numpy<2,>=1.17 in /usr/local/lib/python3.10/dist-packages (from qiskit[visualization]) (1.25.2)\n",
            "Requirement already satisfied: scipy>=1.5 in /usr/local/lib/python3.10/dist-packages (from qiskit[visualization]) (1.11.4)\n",
            "Requirement already satisfied: sympy>=1.3 in /usr/local/lib/python3.10/dist-packages (from qiskit[visualization]) (1.12)\n",
            "Requirement already satisfied: dill>=0.3 in /usr/local/lib/python3.10/dist-packages (from qiskit[visualization]) (0.3.8)\n",
            "Requirement already satisfied: python-dateutil>=2.8.0 in /usr/local/lib/python3.10/dist-packages (from qiskit[visualization]) (2.8.2)\n",
            "Requirement already satisfied: stevedore>=3.0.0 in /usr/local/lib/python3.10/dist-packages (from qiskit[visualization]) (5.2.0)\n",
            "Requirement already satisfied: typing-extensions in /usr/local/lib/python3.10/dist-packages (from qiskit[visualization]) (4.11.0)\n",
            "Requirement already satisfied: symengine>=0.11 in /usr/local/lib/python3.10/dist-packages (from qiskit[visualization]) (0.11.0)\n",
            "Requirement already satisfied: matplotlib>=3.3 in /usr/local/lib/python3.10/dist-packages (from qiskit[visualization]) (3.7.1)\n",
            "Requirement already satisfied: pydot in /usr/local/lib/python3.10/dist-packages (from qiskit[visualization]) (1.4.2)\n",
            "Requirement already satisfied: Pillow>=4.2.1 in /usr/local/lib/python3.10/dist-packages (from qiskit[visualization]) (9.4.0)\n",
            "Collecting pylatexenc>=1.4 (from qiskit[visualization])\n",
            "  Downloading pylatexenc-2.10.tar.gz (162 kB)\n",
            "\u001b[2K     \u001b[90m━━━━━━━━━━━━━━━━━━━━━━━━━━━━━━━━━━━━━━━━\u001b[0m \u001b[32m162.6/162.6 kB\u001b[0m \u001b[31m3.7 MB/s\u001b[0m eta \u001b[36m0:00:00\u001b[0m\n",
            "\u001b[?25h  Preparing metadata (setup.py) ... \u001b[?25l\u001b[?25hdone\n",
            "Requirement already satisfied: seaborn>=0.9.0 in /usr/local/lib/python3.10/dist-packages (from qiskit[visualization]) (0.13.1)\n",
            "Requirement already satisfied: contourpy>=1.0.1 in /usr/local/lib/python3.10/dist-packages (from matplotlib>=3.3->qiskit[visualization]) (1.2.1)\n",
            "Requirement already satisfied: cycler>=0.10 in /usr/local/lib/python3.10/dist-packages (from matplotlib>=3.3->qiskit[visualization]) (0.12.1)\n",
            "Requirement already satisfied: fonttools>=4.22.0 in /usr/local/lib/python3.10/dist-packages (from matplotlib>=3.3->qiskit[visualization]) (4.51.0)\n",
            "Requirement already satisfied: kiwisolver>=1.0.1 in /usr/local/lib/python3.10/dist-packages (from matplotlib>=3.3->qiskit[visualization]) (1.4.5)\n",
            "Requirement already satisfied: packaging>=20.0 in /usr/local/lib/python3.10/dist-packages (from matplotlib>=3.3->qiskit[visualization]) (24.0)\n",
            "Requirement already satisfied: pyparsing>=2.3.1 in /usr/local/lib/python3.10/dist-packages (from matplotlib>=3.3->qiskit[visualization]) (3.1.2)\n",
            "Requirement already satisfied: six>=1.5 in /usr/local/lib/python3.10/dist-packages (from python-dateutil>=2.8.0->qiskit[visualization]) (1.16.0)\n",
            "Requirement already satisfied: pandas>=1.2 in /usr/local/lib/python3.10/dist-packages (from seaborn>=0.9.0->qiskit[visualization]) (2.0.3)\n",
            "Requirement already satisfied: pbr!=2.1.0,>=2.0.0 in /usr/local/lib/python3.10/dist-packages (from stevedore>=3.0.0->qiskit[visualization]) (6.0.0)\n",
            "Requirement already satisfied: mpmath>=0.19 in /usr/local/lib/python3.10/dist-packages (from sympy>=1.3->qiskit[visualization]) (1.3.0)\n",
            "Requirement already satisfied: pytz>=2020.1 in /usr/local/lib/python3.10/dist-packages (from pandas>=1.2->seaborn>=0.9.0->qiskit[visualization]) (2023.4)\n",
            "Requirement already satisfied: tzdata>=2022.1 in /usr/local/lib/python3.10/dist-packages (from pandas>=1.2->seaborn>=0.9.0->qiskit[visualization]) (2024.1)\n",
            "Building wheels for collected packages: pylatexenc\n",
            "  Building wheel for pylatexenc (setup.py) ... \u001b[?25l\u001b[?25hdone\n",
            "  Created wheel for pylatexenc: filename=pylatexenc-2.10-py3-none-any.whl size=136816 sha256=9578c05edf319dce73fd629f8beaf732a37b7db6b92612c6c34c7b0398aea1df\n",
            "  Stored in directory: /root/.cache/pip/wheels/d3/31/8b/e09b0386afd80cfc556c00408c9aeea5c35c4d484a9c762fd5\n",
            "Successfully built pylatexenc\n"
          ]
        }
      ],
      "source": [
        "!pip install qiskit-machine-learning\n",
        "!pip install qiskit[visualization]\n",
        "!pip install genomic-benchmarks\n",
        "!pip install tensorflow>=2.6.0\n",
        "!pip install tensorflow-addons\n",
        "!pip install typing-extensions --upgrade\n",
        "!pip install qiskit-aer"
      ]
    },
    {
      "cell_type": "code",
      "source": [
        "from pathlib import Path\n",
        "import os\n",
        "import sys\n",
        "import tensorflow as tf\n",
        "import warnings\n",
        "import numpy as np\n",
        "warnings.filterwarnings(\"ignore\")\n",
        "if not sys.warnoptions:\n",
        "    warnings.simplefilter(\"ignore\")\n",
        "from genomic_benchmarks.loc2seq import download_dataset\n",
        "from genomic_benchmarks.data_check import is_downloaded, info\n",
        "from genomic_benchmarks.models.tf import vectorize_layer\n",
        "from genomic_benchmarks.models.tf import get_basic_cnn_model_v0 as get_model\n",
        "import matplotlib.pyplot as plt\n",
        "import time\n",
        "from qiskit.circuit.library import ZZFeatureMap, RealAmplitudes\n",
        "from qiskit_algorithms.optimizers import COBYLA\n",
        "from qiskit_machine_learning.algorithms.classifiers import VQC\n",
        "from functools import partial\n",
        "# from qiskit import Aer\n",
        "from qiskit_machine_learning.circuit.library import RawFeatureVector\n",
        "from qiskit.primitives import Sampler\n",
        "\n",
        "from qiskit_machine_learning.kernels import FidelityQuantumKernel\n",
        "from qiskit_machine_learning.algorithms import PegasosQSVC\n",
        "import json\n",
        "import time\n",
        "import warnings\n",
        "import matplotlib.pyplot as plt\n",
        "import numpy as np\n",
        "from IPython.display import clear_output\n",
        "from qiskit import ClassicalRegister, QuantumRegister\n",
        "from qiskit import QuantumCircuit\n",
        "from qiskit.circuit.library import RealAmplitudes\n",
        "from qiskit.quantum_info import Statevector\n",
        "from qiskit_algorithms.optimizers import COBYLA\n",
        "from qiskit_algorithms.utils import algorithm_globals\n",
        "\n",
        "from qiskit_machine_learning.circuit.library import RawFeatureVector\n",
        "from qiskit_machine_learning.neural_networks import SamplerQNN\n",
        "from sklearn.decomposition import PCA\n",
        "algorithm_globals.random_seed = 42"
      ],
      "metadata": {
        "id": "UENaaK_misXA"
      },
      "execution_count": null,
      "outputs": []
    },
    {
      "cell_type": "code",
      "source": [
        "# Load the preprocessed data\n",
        "train_sequences = np.load('train_sequences.npy')\n",
        "# print('train_sequences',train_sequences[:2])\n",
        "train_labels = np.load('train_labels.npy')\n",
        "# print('train_labels',train_labels[:2])\n",
        "test_sequences = np.load('test_sequences.npy')\n",
        "# print('test_sequences',test_sequences[:2])\n",
        "test_labels = np.load('test_labels.npy')\n",
        "# print('test_labels',test_labels[:2])\n",
        "# Perform PCA transformation on the data\n",
        "pca = PCA(n_components=4)\n",
        "train_sequences = pca.fit_transform(train_sequences)\n",
        "test_sequences= pca.fit_transform(test_sequences)\n",
        "\n",
        "# Split the train_sequences, train_labels, test_sequences, and test_labels into 15 parts each\n",
        "split_train_sequences = np.array_split(train_sequences, 15)\n",
        "split_train_labels = np.array_split(train_labels, 15)\n",
        "split_test_sequences = np.array_split(test_sequences, 15)\n",
        "split_test_labels = np.array_split(test_labels, 15)\n",
        "\n",
        "# Create directories to save the parts\n",
        "os.makedirs('/content/drive/MyDrive/Quantum_Studies_phd/PhD/QML_Genom/QML_genom_seq/train_sequences_parts', exist_ok=True)\n",
        "os.makedirs('/content/drive/MyDrive/Quantum_Studies_phd/PhD/QML_Genom/QML_genom_seq/train_labels_parts', exist_ok=True)\n",
        "os.makedirs('/content/drive/MyDrive/Quantum_Studies_phd/PhD/QML_Genom/QML_genom_seq/test_sequences_parts', exist_ok=True)\n",
        "os.makedirs('/content/drive/MyDrive/Quantum_Studies_phd/PhD/QML_Genom/QML_genom_seq/test_labels_parts', exist_ok=True)\n",
        "\n",
        "# Save each part into a separate file\n",
        "for i in range(15):\n",
        "    np.save(f'/content/drive/MyDrive/Quantum_Studies_phd/PhD/QML_Genom/QML_genom_seq/train_sequences_parts/train_seq_{i+1}.npy', split_train_sequences[i])\n",
        "    np.save(f'/content/drive/MyDrive/Quantum_Studies_phd/PhD/QML_Genom/QML_genom_seq/train_labels_parts/train_labels_{i+1}.npy', split_train_labels[i])\n",
        "    np.save(f'/content/drive/MyDrive/Quantum_Studies_phd/PhD/QML_Genom/QML_genom_seq/test_sequences_parts/test_seq_{i+1}.npy', split_test_sequences[i])\n",
        "    np.save(f'/content/drive/MyDrive/Quantum_Studies_phd/PhD/QML_Genom/QML_genom_seq/test_labels_parts/test_labels_{i+1}.npy', split_test_labels[i])"
      ],
      "metadata": {
        "id": "Yh871hqKi_70"
      },
      "execution_count": null,
      "outputs": []
    },
    {
      "cell_type": "code",
      "source": [
        "# Define the feature dimension or number of qubits\n",
        "feature_dim = len(train_sequences[0])\n",
        "print(\"Feature dimension and number of qubits:\", feature_dim)\n"
      ],
      "metadata": {
        "id": "jHkzQ7sXjSOJ"
      },
      "execution_count": null,
      "outputs": []
    },
    {
      "cell_type": "code",
      "source": [
        "feature_dim = len(train_sequences[0])\n",
        "prep = ZZFeatureMap(feature_dim, reps=2)\n",
        "ansatz = RealAmplitudes(num_qubits=feature_dim, reps=4)\n",
        "\n",
        "# qc= QNNCircuit(num_qubits=feature_dim ,ansatz = ansatz, feature_map=prep)\n",
        "itr=0\n",
        "def training_callback(weights, obj_func_eval):\n",
        "        global itr\n",
        "        itr += 1\n",
        "        print(f\"{itr} {obj_func_eval}\", end=' | ')\n",
        "def parity(x):\n",
        "    return \"{:b}\".format(x).count(\"1\") % 2\n",
        "output_shape = 2\n",
        "\n",
        "# feature_map = RawFeatureVector(feature_dimension=feature_dim)\n",
        "# ansatz = RealAmplitudes(num_qubits = feature_dim, reps=4)\n",
        "optimizer = COBYLA(maxiter=40)\n",
        "vqc = VQC(\n",
        "        feature_map=prep,\n",
        "        ansatz=ansatz,\n",
        "        optimizer=optimizer,\n",
        "        sampler=Sampler(),\n",
        "        callback=partial(training_callback)\n",
        ")\n",
        "\n"
      ],
      "metadata": {
        "id": "SOzXpbZ7kuaa"
      },
      "execution_count": null,
      "outputs": []
    },
    {
      "cell_type": "code",
      "source": [
        "# from qiskit.circuit.library import ZFeatureMap\n",
        "# feature_map = ZFeatureMap(feature_dim, reps=2)\n",
        "# feature_map.draw('mpl')"
      ],
      "metadata": {
        "id": "IiJeSkqMjUiZ"
      },
      "execution_count": null,
      "outputs": []
    },
    {
      "cell_type": "code",
      "source": [
        "# qkernel = FidelityQuantumKernel(feature_map=feature_map)\n",
        "# pegasos_qsvc = PegasosQSVC(quantum_kernel=qkernel, C=C, num_steps=tau)"
      ],
      "metadata": {
        "id": "CKUNOQ0ijenU"
      },
      "execution_count": null,
      "outputs": []
    },
    {
      "cell_type": "code",
      "source": [
        "num_epochs = 10  # Specify the number of epochs\n",
        "batch_size = 1024  # Specify the batch size\n",
        "total_time = 0\n",
        "\n",
        "# Placeholder for saving scores\n",
        "train_scores = []\n",
        "test_scores = []"
      ],
      "metadata": {
        "id": "cBw5ISDvjivd"
      },
      "execution_count": null,
      "outputs": []
    },
    {
      "cell_type": "code",
      "source": [
        "# Loop over each epoch\n",
        "for epoch in range(num_epochs):\n",
        "    start_time = time.time()  # Start time for the epoch\n",
        "    epoch_train_scores = []  # Store training scores for each epoch\n",
        "\n",
        "    # Loop over each data split\n",
        "    for a in range(1, 5):\n",
        "        # Load the split data\n",
        "        train_sequences_part = np.load(f'/content/drive/MyDrive/Quantum_Studies_phd/PhD/QML_Genom/QML_genom_seq/train_sequences_parts/train_seq_{a}.npy')\n",
        "        train_labels_part = np.load(f'/content/drive/MyDrive/Quantum_Studies_phd/PhD/QML_Genom/QML_genom_seq/train_labels_parts/train_labels_{a}.npy')\n",
        "\n",
        "        print(f\"Training on part {a} started\")\n",
        "\n",
        "        # Perform training for each batch\n",
        "        for i in range(0, len(train_sequences_part), batch_size):\n",
        "            batch_sequences = train_sequences_part[i:i+batch_size]\n",
        "            batch_labels = train_labels_part[i:i+batch_size]\n",
        "\n",
        "            # Fit the model on the batch\n",
        "            vqc.fit(batch_sequences, batch_labels)\n",
        "\n",
        "            # # Optionally evaluate on training data\n",
        "            score = vqc.score(batch_sequences, batch_labels)\n",
        "            epoch_train_scores.append(score)\n",
        "\n",
        "            print(f\"Epoch {epoch + 1}, Part {a} - Batch {i // batch_size + 1} completed\")\n",
        "\n",
        "        # Optionally, save the model after each part is processed within an epoch\n",
        "        vqc.save(f'VQC_ZZFeatureMap_after_part_{a}_epoch_{epoch+1}')\n",
        "        print(f\"Model saved after part {a}, epoch {epoch+1} completed\")\n",
        "\n",
        "    # Average training score for the epoch\n",
        "    average_train_score = np.mean(epoch_train_scores)\n",
        "    train_scores.append(average_train_score)\n",
        "\n",
        "    # Evaluate on the entire test dataset after each epoch\n",
        "    test_score = vqc.score(test_sequences[:4000], test_labels[:4000])\n",
        "    test_scores.append(test_score)\n",
        "\n",
        "    print(f\"Epoch {epoch+1} - Training Score: {average_train_score:.4f}, Test Score: {test_score:.4f}\")\n",
        "\n",
        "    vqc.save(f'VQC_ZZFeatureMap_epoch_{epoch+1}')\n",
        "    print(f\"Model saved after epoch {epoch+1} completed\")\n",
        "\n",
        "    # Calculate the time for the epoch\n",
        "    end_time = time.time()\n",
        "    epoch_time = end_time - start_time\n",
        "    total_time += epoch_time\n",
        "\n",
        "    print(f\"Epoch {epoch+1} - Time taken: {epoch_time:.2f} seconds\")\n",
        "\n",
        "print(f\"Total training time: {total_time:.2f} seconds\")\n",
        "\n",
        "# Save scores to a file for later use\n",
        "# np.save('VQC_train_scores_ZZFeatureMap.npy', np.array(train_scores))\n",
        "# np.save('VQC_test_scores_ZZFeatureMap.npy', np.array(test_scores))\n",
        "train_scores_file = 'VQC_train_scores_ZZFeatureMap.npy'\n",
        "test_scores_file = 'VQC_test_scores_ZZFeatureMap.npy'\n",
        "if os.path.exists(train_scores_file):\n",
        "    existing_train_scores = np.load(train_scores_file)\n",
        "    updated_train_scores = np.concatenate((existing_train_scores, train_scores))\n",
        "    np.save(train_scores_file, updated_train_scores)\n",
        "else:\n",
        "    np.save(train_scores_file, np.array(train_scores))\n",
        "\n",
        "if os.path.exists(test_scores_file):\n",
        "    existing_test_scores = np.load(test_scores_file)\n",
        "    updated_test_scores = np.concatenate((existing_test_scores, test_scores))\n",
        "    np.save(test_scores_file, updated_test_scores)\n",
        "else:\n",
        "    np.save(test_scores_file, np.array(test_scores))\n",
        "# Plot the training and testing scores\n",
        "plt.figure(figsize=(10, 5))\n",
        "plt.plot(range(1, num_epochs + 1), train_scores, label='Training Score')\n",
        "plt.plot(range(1, num_epochs + 1), test_scores, label='Testing Score')\n",
        "plt.xlabel('Epoch')\n",
        "plt.ylabel('Score')\n",
        "plt.title('Training and Testing Scores per Epoch')\n",
        "plt.legend()\n",
        "plt.grid(True)\n",
        "plt.show()\n"
      ],
      "metadata": {
        "id": "L5P_yROh8yrj"
      },
      "execution_count": null,
      "outputs": []
    },
    {
      "cell_type": "code",
      "source": [],
      "metadata": {
        "id": "RDWxt5u8khBk"
      },
      "execution_count": null,
      "outputs": []
    }
  ]
}